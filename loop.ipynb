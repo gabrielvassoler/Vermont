{
 "cells": [
  {
   "cell_type": "code",
   "execution_count": 2,
   "id": "df03bcd9",
   "metadata": {},
   "outputs": [
    {
     "name": "stderr",
     "output_type": "stream",
     "text": [
      "  File \"reachability.py\", line 2\n",
      "    %run startup.py\n",
      "    ^\n",
      "SyntaxError: invalid syntax\n"
     ]
    }
   ],
   "source": [
    "%%bash\n",
    "nxp=2\n",
    "\n",
    "t=0\n",
    "while [ $t -lt $nxp ]\n",
    "do\n",
    "    cd Exp$t/Config-Generator\n",
    "    python3 BatFishConfigGenerator.py\n",
    "    cd ..\n",
    "    python3 reachability.py\n",
    "    t=$((t+1))\n",
    "    cd ..\n",
    "done"
   ]
  },
  {
   "cell_type": "code",
   "execution_count": null,
   "id": "eb329746",
   "metadata": {},
   "outputs": [],
   "source": []
  }
 ],
 "metadata": {
  "kernelspec": {
   "display_name": "Python 3.7.3 32-bit",
   "language": "python",
   "name": "python3"
  },
  "language_info": {
   "codemirror_mode": {
    "name": "ipython",
    "version": 3
   },
   "file_extension": ".py",
   "mimetype": "text/x-python",
   "name": "python",
   "nbconvert_exporter": "python",
   "pygments_lexer": "ipython3",
   "version": "3.7.3"
  },
  "vscode": {
   "interpreter": {
    "hash": "8a5f5a8ae5b2735e6d2d9fba14df8ac3595273e1514fb708b758d2cd91e5ae68"
   }
  }
 },
 "nbformat": 4,
 "nbformat_minor": 5
}
